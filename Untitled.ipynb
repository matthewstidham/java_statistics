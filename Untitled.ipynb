{
 "cells": [
  {
   "cell_type": "code",
   "execution_count": 1,
   "id": "153a3b37",
   "metadata": {},
   "outputs": [],
   "source": [
    "# alpha = np.mean(y) - beta * np.mean(x)"
   ]
  },
  {
   "cell_type": "code",
   "execution_count": 22,
   "id": "46186f1b",
   "metadata": {},
   "outputs": [],
   "source": [
    "x_values = [0, 1, 2, 3, 4, 5, 6]\n",
    "y_values = [0, 2, 4, 6, 8, 10, 12]"
   ]
  },
  {
   "cell_type": "code",
   "execution_count": 23,
   "id": "ef078dc3",
   "metadata": {},
   "outputs": [
    {
     "name": "stdout",
     "output_type": "stream",
     "text": [
      "x: 3.0, y: 6.0\n"
     ]
    }
   ],
   "source": [
    "import numpy as np\n",
    "x_mean = np.mean(x_values)\n",
    "y_mean = np.mean(y_values)\n",
    "print(\"x: %s, y: %s\" % (x_mean, y_mean))"
   ]
  },
  {
   "cell_type": "code",
   "execution_count": 24,
   "id": "59e70a34",
   "metadata": {},
   "outputs": [],
   "source": [
    "alpha = 0\n",
    "for x in x_values:\n",
    "    for y in y_values:\n",
    "        alpha += x * y\n",
    "beta = sum(x_values) * sum(y_values)\n",
    "gamma = sum([x**2 for x in x_values])\n",
    "delta = sum(x_values) ** 2"
   ]
  },
  {
   "cell_type": "code",
   "execution_count": 33,
   "id": "51cb3f86",
   "metadata": {},
   "outputs": [],
   "source": [
    "temp = list(zip([x - x_mean for x in x_values], \n",
    "         [y - y_mean for y in y_values]))"
   ]
  },
  {
   "cell_type": "code",
   "execution_count": 54,
   "id": "4a1a033d",
   "metadata": {},
   "outputs": [
    {
     "data": {
      "text/plain": [
       "56.0"
      ]
     },
     "execution_count": 54,
     "metadata": {},
     "output_type": "execute_result"
    }
   ],
   "source": [
    "numerator = np.sum([np.product(x) for x in temp])\n",
    "numerator"
   ]
  },
  {
   "cell_type": "code",
   "execution_count": 51,
   "id": "c8fd0f62",
   "metadata": {},
   "outputs": [
    {
     "data": {
      "text/plain": [
       "2.0"
      ]
     },
     "execution_count": 51,
     "metadata": {},
     "output_type": "execute_result"
    }
   ],
   "source": [
    "Beta = numerator / np.sum([(x - x_mean) ** 2 for x in x_values])\n",
    "Beta"
   ]
  },
  {
   "cell_type": "code",
   "execution_count": 52,
   "id": "7247eab3",
   "metadata": {},
   "outputs": [],
   "source": [
    "Alpha = np.mean(y_values) - Beta * np.mean(x_values)"
   ]
  },
  {
   "cell_type": "code",
   "execution_count": 53,
   "id": "b2ca48fb",
   "metadata": {},
   "outputs": [
    {
     "data": {
      "text/plain": [
       "0.0"
      ]
     },
     "execution_count": 53,
     "metadata": {},
     "output_type": "execute_result"
    }
   ],
   "source": [
    "Alpha"
   ]
  },
  {
   "cell_type": "code",
   "execution_count": 58,
   "id": "ea31e4ec",
   "metadata": {},
   "outputs": [],
   "source": [
    "import numpy as np\n",
    "def ols_regression(X, Y):\n",
    "    x_mean = np.mean(X)\n",
    "    y_mean = np.mean(y)\n",
    "    temp = list(zip([x - x_mean for x in X], \n",
    "         [y - y_mean for y in Y]))\n",
    "    numerator = np.sum([np.product(x) for x in temp])\n",
    "    Beta = numerator / np.sum([(x - x_mean) ** 2 for x in X])\n",
    "    Alpha = np.mean(Y) - Beta * np.mean(X)\n",
    "    print('y = %s + %sx' % (Alpha, Beta))"
   ]
  },
  {
   "cell_type": "code",
   "execution_count": 59,
   "id": "f3d833b5",
   "metadata": {},
   "outputs": [
    {
     "name": "stdout",
     "output_type": "stream",
     "text": [
      "y = 0.0 + 2.0x\n"
     ]
    }
   ],
   "source": [
    "ols_regression(x_values,y_values)"
   ]
  },
  {
   "cell_type": "code",
   "execution_count": 60,
   "id": "1cfe2354",
   "metadata": {},
   "outputs": [
    {
     "name": "stdout",
     "output_type": "stream",
     "text": [
      "y = 0.0 + 3.0x\n"
     ]
    }
   ],
   "source": [
    "y_values2 = [0, 3, 6, 9, 12, 15, 18]\n",
    "ols_regression(x_values, y_values2)"
   ]
  },
  {
   "cell_type": "code",
   "execution_count": null,
   "id": "3badb72d",
   "metadata": {},
   "outputs": [],
   "source": []
  }
 ],
 "metadata": {
  "kernelspec": {
   "display_name": "Python 3 (ipykernel)",
   "language": "python",
   "name": "python3"
  },
  "language_info": {
   "codemirror_mode": {
    "name": "ipython",
    "version": 3
   },
   "file_extension": ".py",
   "mimetype": "text/x-python",
   "name": "python",
   "nbconvert_exporter": "python",
   "pygments_lexer": "ipython3",
   "version": "3.9.7"
  }
 },
 "nbformat": 4,
 "nbformat_minor": 5
}
